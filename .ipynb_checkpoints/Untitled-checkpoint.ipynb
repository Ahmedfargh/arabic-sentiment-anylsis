{
 "cells": [
  {
   "cell_type": "code",
   "execution_count": 36,
   "id": "ddaffadb",
   "metadata": {},
   "outputs": [],
   "source": [
    "import nltk as nt\n",
    "import numpy as py\n",
    "import pandas as pd\n",
    "from nltk.corpus import stopwords"
   ]
  },
  {
   "cell_type": "code",
   "execution_count": 37,
   "id": "a0d42c40",
   "metadata": {},
   "outputs": [],
   "source": [
    "stop_words=stopwords.words(\"english\")"
   ]
  },
  {
   "cell_type": "code",
   "execution_count": 38,
   "id": "e9f4ad2e",
   "metadata": {},
   "outputs": [],
   "source": [
    "dataset=pd.read_csv(\"Arabic Sentiment Analysis Dataset - SS2030.csv\")"
   ]
  },
  {
   "cell_type": "code",
   "execution_count": 39,
   "id": "91e51868",
   "metadata": {},
   "outputs": [
    {
     "data": {
      "text/html": [
       "<div>\n",
       "<style scoped>\n",
       "    .dataframe tbody tr th:only-of-type {\n",
       "        vertical-align: middle;\n",
       "    }\n",
       "\n",
       "    .dataframe tbody tr th {\n",
       "        vertical-align: top;\n",
       "    }\n",
       "\n",
       "    .dataframe thead th {\n",
       "        text-align: right;\n",
       "    }\n",
       "</style>\n",
       "<table border=\"1\" class=\"dataframe\">\n",
       "  <thead>\n",
       "    <tr style=\"text-align: right;\">\n",
       "      <th></th>\n",
       "      <th>Sentiment</th>\n",
       "    </tr>\n",
       "  </thead>\n",
       "  <tbody>\n",
       "    <tr>\n",
       "      <th>count</th>\n",
       "      <td>4252.000000</td>\n",
       "    </tr>\n",
       "    <tr>\n",
       "      <th>mean</th>\n",
       "      <td>0.572907</td>\n",
       "    </tr>\n",
       "    <tr>\n",
       "      <th>std</th>\n",
       "      <td>0.494714</td>\n",
       "    </tr>\n",
       "    <tr>\n",
       "      <th>min</th>\n",
       "      <td>0.000000</td>\n",
       "    </tr>\n",
       "    <tr>\n",
       "      <th>25%</th>\n",
       "      <td>0.000000</td>\n",
       "    </tr>\n",
       "    <tr>\n",
       "      <th>50%</th>\n",
       "      <td>1.000000</td>\n",
       "    </tr>\n",
       "    <tr>\n",
       "      <th>75%</th>\n",
       "      <td>1.000000</td>\n",
       "    </tr>\n",
       "    <tr>\n",
       "      <th>max</th>\n",
       "      <td>1.000000</td>\n",
       "    </tr>\n",
       "  </tbody>\n",
       "</table>\n",
       "</div>"
      ],
      "text/plain": [
       "         Sentiment\n",
       "count  4252.000000\n",
       "mean      0.572907\n",
       "std       0.494714\n",
       "min       0.000000\n",
       "25%       0.000000\n",
       "50%       1.000000\n",
       "75%       1.000000\n",
       "max       1.000000"
      ]
     },
     "execution_count": 39,
     "metadata": {},
     "output_type": "execute_result"
    }
   ],
   "source": [
    "dataset.describe()"
   ]
  },
  {
   "cell_type": "code",
   "execution_count": 40,
   "id": "a156932b",
   "metadata": {},
   "outputs": [
    {
     "data": {
      "text/html": [
       "<div>\n",
       "<style scoped>\n",
       "    .dataframe tbody tr th:only-of-type {\n",
       "        vertical-align: middle;\n",
       "    }\n",
       "\n",
       "    .dataframe tbody tr th {\n",
       "        vertical-align: top;\n",
       "    }\n",
       "\n",
       "    .dataframe thead th {\n",
       "        text-align: right;\n",
       "    }\n",
       "</style>\n",
       "<table border=\"1\" class=\"dataframe\">\n",
       "  <thead>\n",
       "    <tr style=\"text-align: right;\">\n",
       "      <th></th>\n",
       "      <th>text</th>\n",
       "      <th>Sentiment</th>\n",
       "    </tr>\n",
       "  </thead>\n",
       "  <tbody>\n",
       "    <tr>\n",
       "      <th>0</th>\n",
       "      <td>حقوق المرأة 💚💚💚 https://t.co/Mzf90Ta5g1</td>\n",
       "      <td>1</td>\n",
       "    </tr>\n",
       "    <tr>\n",
       "      <th>1</th>\n",
       "      <td>RT @___IHAVENOIDEA: حقوق المرأة في الإسلام. ht...</td>\n",
       "      <td>1</td>\n",
       "    </tr>\n",
       "    <tr>\n",
       "      <th>2</th>\n",
       "      <td>RT @saud_talep: Retweeted لجنة التنمية بشبرا (...</td>\n",
       "      <td>1</td>\n",
       "    </tr>\n",
       "    <tr>\n",
       "      <th>3</th>\n",
       "      <td>RT @MojKsa: حقوق المرأة التي تضمنها لها وزارة ...</td>\n",
       "      <td>1</td>\n",
       "    </tr>\n",
       "    <tr>\n",
       "      <th>4</th>\n",
       "      <td>RT @abm112211: ولي امر الزوجة او ولي الزوجة او...</td>\n",
       "      <td>1</td>\n",
       "    </tr>\n",
       "  </tbody>\n",
       "</table>\n",
       "</div>"
      ],
      "text/plain": [
       "                                                text  Sentiment\n",
       "0            حقوق المرأة 💚💚💚 https://t.co/Mzf90Ta5g1          1\n",
       "1  RT @___IHAVENOIDEA: حقوق المرأة في الإسلام. ht...          1\n",
       "2  RT @saud_talep: Retweeted لجنة التنمية بشبرا (...          1\n",
       "3  RT @MojKsa: حقوق المرأة التي تضمنها لها وزارة ...          1\n",
       "4  RT @abm112211: ولي امر الزوجة او ولي الزوجة او...          1"
      ]
     },
     "execution_count": 40,
     "metadata": {},
     "output_type": "execute_result"
    }
   ],
   "source": [
    "dataset.head()"
   ]
  },
  {
   "cell_type": "code",
   "execution_count": 41,
   "id": "654c3d4e",
   "metadata": {},
   "outputs": [
    {
     "data": {
      "text/plain": [
       "array([1, 0], dtype=int64)"
      ]
     },
     "execution_count": 41,
     "metadata": {},
     "output_type": "execute_result"
    }
   ],
   "source": [
    "dataset[\"Sentiment\"].unique()"
   ]
  },
  {
   "cell_type": "code",
   "execution_count": 42,
   "id": "4a0bb940",
   "metadata": {},
   "outputs": [],
   "source": [
    "from keras.preprocessing.text import Tokenizer"
   ]
  },
  {
   "cell_type": "code",
   "execution_count": 43,
   "id": "4db34923",
   "metadata": {},
   "outputs": [],
   "source": [
    "tokenizer=Tokenizer()"
   ]
  },
  {
   "cell_type": "code",
   "execution_count": 44,
   "id": "39df04bc",
   "metadata": {},
   "outputs": [],
   "source": [
    "tokenizer.fit_on_texts(dataset[\"text\"].values)"
   ]
  },
  {
   "cell_type": "code",
   "execution_count": 45,
   "id": "466a5b72",
   "metadata": {},
   "outputs": [
    {
     "name": "stdout",
     "output_type": "stream",
     "text": [
      "4252\n"
     ]
    }
   ],
   "source": [
    "print(tokenizer.document_count)"
   ]
  },
  {
   "cell_type": "code",
   "execution_count": 46,
   "id": "9fe65073",
   "metadata": {},
   "outputs": [],
   "source": [
    "import re\n",
    "import string\n",
    "def remove_emojii(text):\n",
    "    emojii_pattern=re.compile(\n",
    "    \"[\"\n",
    "        u\"\\U0001F600-\\U0001F64F\"\n",
    "        u\"\\U0001F300-\\U0001F5FF\"\n",
    "        u\"\\U0001F680-\\U0001F6FF\"\n",
    "        u\"\\U0001F1E0-\\U0001F1FF\"\n",
    "        u\"\\U00002702-\\U000027B0\"\n",
    "        u\"\\U000024C2-\\U0001F251\"\n",
    "        \"]+\",\n",
    "        flags=re.UNICODE\n",
    "    )\n",
    "    return emojii_pattern.sub(r\"\",text)\n",
    "def remove_url(text):\n",
    "    url=re.compile(r\"https?://\\S+|www\\.\\S+\")\n",
    "    return url.sub(r\"\",text)\n",
    "def tokenize(text):\n",
    "    return text.split(\" \")\n",
    "def remove_punc(text):\n",
    "    table=str.maketrans(\"\",\"\",string.punctuation)\n",
    "    return text.translate(table)\n",
    "def remove_stop_words(tokens):\n",
    "    return [word for word in tokens if word not in stop_words]\n",
    "def preprocess_text(text):\n",
    "    text=remove_emojii(text)\n",
    "    text=remove_url(text)\n",
    "    text=remove_punc(text)\n",
    "    tokens=tokenize(text)\n",
    "    tokens=remove_stop_words(tokens)\n",
    "    return tokens\n",
    "dataset[\"tokens\"]=dataset[\"text\"].map(preprocess_text)"
   ]
  },
  {
   "cell_type": "code",
   "execution_count": null,
   "id": "6a53b271",
   "metadata": {},
   "outputs": [],
   "source": []
  },
  {
   "cell_type": "code",
   "execution_count": 47,
   "id": "f6c70820",
   "metadata": {},
   "outputs": [
    {
     "data": {
      "text/html": [
       "<div>\n",
       "<style scoped>\n",
       "    .dataframe tbody tr th:only-of-type {\n",
       "        vertical-align: middle;\n",
       "    }\n",
       "\n",
       "    .dataframe tbody tr th {\n",
       "        vertical-align: top;\n",
       "    }\n",
       "\n",
       "    .dataframe thead th {\n",
       "        text-align: right;\n",
       "    }\n",
       "</style>\n",
       "<table border=\"1\" class=\"dataframe\">\n",
       "  <thead>\n",
       "    <tr style=\"text-align: right;\">\n",
       "      <th></th>\n",
       "      <th>text</th>\n",
       "      <th>Sentiment</th>\n",
       "      <th>tokens</th>\n",
       "    </tr>\n",
       "  </thead>\n",
       "  <tbody>\n",
       "    <tr>\n",
       "      <th>0</th>\n",
       "      <td>حقوق المرأة 💚💚💚 https://t.co/Mzf90Ta5g1</td>\n",
       "      <td>1</td>\n",
       "      <td>[حقوق, المرأة, , ]</td>\n",
       "    </tr>\n",
       "    <tr>\n",
       "      <th>1</th>\n",
       "      <td>RT @___IHAVENOIDEA: حقوق المرأة في الإسلام. ht...</td>\n",
       "      <td>1</td>\n",
       "      <td>[RT, IHAVENOIDEA, حقوق, المرأة, في, الإسلام, ]</td>\n",
       "    </tr>\n",
       "    <tr>\n",
       "      <th>2</th>\n",
       "      <td>RT @saud_talep: Retweeted لجنة التنمية بشبرا (...</td>\n",
       "      <td>1</td>\n",
       "      <td>[RT, saudtalep, Retweeted, لجنة, التنمية, بشبر...</td>\n",
       "    </tr>\n",
       "    <tr>\n",
       "      <th>3</th>\n",
       "      <td>RT @MojKsa: حقوق المرأة التي تضمنها لها وزارة ...</td>\n",
       "      <td>1</td>\n",
       "      <td>[RT, MojKsa, حقوق, المرأة, التي, تضمنها, لها, ...</td>\n",
       "    </tr>\n",
       "    <tr>\n",
       "      <th>4</th>\n",
       "      <td>RT @abm112211: ولي امر الزوجة او ولي الزوجة او...</td>\n",
       "      <td>1</td>\n",
       "      <td>[RT, abm112211, ولي, امر, الزوجة, او, ولي, الز...</td>\n",
       "    </tr>\n",
       "  </tbody>\n",
       "</table>\n",
       "</div>"
      ],
      "text/plain": [
       "                                                text  Sentiment  \\\n",
       "0            حقوق المرأة 💚💚💚 https://t.co/Mzf90Ta5g1          1   \n",
       "1  RT @___IHAVENOIDEA: حقوق المرأة في الإسلام. ht...          1   \n",
       "2  RT @saud_talep: Retweeted لجنة التنمية بشبرا (...          1   \n",
       "3  RT @MojKsa: حقوق المرأة التي تضمنها لها وزارة ...          1   \n",
       "4  RT @abm112211: ولي امر الزوجة او ولي الزوجة او...          1   \n",
       "\n",
       "                                              tokens  \n",
       "0                                 [حقوق, المرأة, , ]  \n",
       "1     [RT, IHAVENOIDEA, حقوق, المرأة, في, الإسلام, ]  \n",
       "2  [RT, saudtalep, Retweeted, لجنة, التنمية, بشبر...  \n",
       "3  [RT, MojKsa, حقوق, المرأة, التي, تضمنها, لها, ...  \n",
       "4  [RT, abm112211, ولي, امر, الزوجة, او, ولي, الز...  "
      ]
     },
     "execution_count": 47,
     "metadata": {},
     "output_type": "execute_result"
    }
   ],
   "source": [
    "dataset.head()"
   ]
  },
  {
   "cell_type": "code",
   "execution_count": 48,
   "id": "00171426",
   "metadata": {},
   "outputs": [],
   "source": [
    "def get_max_tokens(data):\n",
    "    max_length=len(data[0])\n",
    "    for item in data:\n",
    "        if len(item)>max_length:\n",
    "            max_length=len(item)\n",
    "    return max_length\n",
    "max_length=get_max_tokens(dataset[\"tokens\"].values)"
   ]
  },
  {
   "cell_type": "code",
   "execution_count": 49,
   "id": "53d41eaf",
   "metadata": {},
   "outputs": [
    {
     "data": {
      "text/plain": [
       "61"
      ]
     },
     "execution_count": 49,
     "metadata": {},
     "output_type": "execute_result"
    }
   ],
   "source": [
    "max_length"
   ]
  },
  {
   "cell_type": "code",
   "execution_count": 50,
   "id": "cea2186b",
   "metadata": {},
   "outputs": [],
   "source": [
    "def clean_null(tokens):\n",
    "    return [word for word in tokens if not word==\"\"]\n",
    "dataset[\"tokens\"]=dataset[\"tokens\"].map(clean_null)"
   ]
  },
  {
   "cell_type": "code",
   "execution_count": 51,
   "id": "9ad2d410",
   "metadata": {},
   "outputs": [
    {
     "data": {
      "text/html": [
       "<div>\n",
       "<style scoped>\n",
       "    .dataframe tbody tr th:only-of-type {\n",
       "        vertical-align: middle;\n",
       "    }\n",
       "\n",
       "    .dataframe tbody tr th {\n",
       "        vertical-align: top;\n",
       "    }\n",
       "\n",
       "    .dataframe thead th {\n",
       "        text-align: right;\n",
       "    }\n",
       "</style>\n",
       "<table border=\"1\" class=\"dataframe\">\n",
       "  <thead>\n",
       "    <tr style=\"text-align: right;\">\n",
       "      <th></th>\n",
       "      <th>text</th>\n",
       "      <th>Sentiment</th>\n",
       "      <th>tokens</th>\n",
       "    </tr>\n",
       "  </thead>\n",
       "  <tbody>\n",
       "    <tr>\n",
       "      <th>0</th>\n",
       "      <td>حقوق المرأة 💚💚💚 https://t.co/Mzf90Ta5g1</td>\n",
       "      <td>1</td>\n",
       "      <td>[حقوق, المرأة]</td>\n",
       "    </tr>\n",
       "    <tr>\n",
       "      <th>1</th>\n",
       "      <td>RT @___IHAVENOIDEA: حقوق المرأة في الإسلام. ht...</td>\n",
       "      <td>1</td>\n",
       "      <td>[RT, IHAVENOIDEA, حقوق, المرأة, في, الإسلام]</td>\n",
       "    </tr>\n",
       "    <tr>\n",
       "      <th>2</th>\n",
       "      <td>RT @saud_talep: Retweeted لجنة التنمية بشبرا (...</td>\n",
       "      <td>1</td>\n",
       "      <td>[RT, saudtalep, Retweeted, لجنة, التنمية, بشبر...</td>\n",
       "    </tr>\n",
       "    <tr>\n",
       "      <th>3</th>\n",
       "      <td>RT @MojKsa: حقوق المرأة التي تضمنها لها وزارة ...</td>\n",
       "      <td>1</td>\n",
       "      <td>[RT, MojKsa, حقوق, المرأة, التي, تضمنها, لها, ...</td>\n",
       "    </tr>\n",
       "    <tr>\n",
       "      <th>4</th>\n",
       "      <td>RT @abm112211: ولي امر الزوجة او ولي الزوجة او...</td>\n",
       "      <td>1</td>\n",
       "      <td>[RT, abm112211, ولي, امر, الزوجة, او, ولي, الز...</td>\n",
       "    </tr>\n",
       "  </tbody>\n",
       "</table>\n",
       "</div>"
      ],
      "text/plain": [
       "                                                text  Sentiment  \\\n",
       "0            حقوق المرأة 💚💚💚 https://t.co/Mzf90Ta5g1          1   \n",
       "1  RT @___IHAVENOIDEA: حقوق المرأة في الإسلام. ht...          1   \n",
       "2  RT @saud_talep: Retweeted لجنة التنمية بشبرا (...          1   \n",
       "3  RT @MojKsa: حقوق المرأة التي تضمنها لها وزارة ...          1   \n",
       "4  RT @abm112211: ولي امر الزوجة او ولي الزوجة او...          1   \n",
       "\n",
       "                                              tokens  \n",
       "0                                     [حقوق, المرأة]  \n",
       "1       [RT, IHAVENOIDEA, حقوق, المرأة, في, الإسلام]  \n",
       "2  [RT, saudtalep, Retweeted, لجنة, التنمية, بشبر...  \n",
       "3  [RT, MojKsa, حقوق, المرأة, التي, تضمنها, لها, ...  \n",
       "4  [RT, abm112211, ولي, امر, الزوجة, او, ولي, الز...  "
      ]
     },
     "execution_count": 51,
     "metadata": {},
     "output_type": "execute_result"
    }
   ],
   "source": [
    "dataset.head()"
   ]
  },
  {
   "cell_type": "code",
   "execution_count": 52,
   "id": "cb6fdb17",
   "metadata": {},
   "outputs": [],
   "source": [
    "max_length=get_max_tokens(dataset[\"tokens\"].values)"
   ]
  },
  {
   "cell_type": "code",
   "execution_count": 53,
   "id": "cd2ff3d6",
   "metadata": {},
   "outputs": [
    {
     "data": {
      "text/plain": [
       "61"
      ]
     },
     "execution_count": 53,
     "metadata": {},
     "output_type": "execute_result"
    }
   ],
   "source": [
    "max_length"
   ]
  },
  {
   "cell_type": "code",
   "execution_count": 54,
   "id": "7989dba7",
   "metadata": {},
   "outputs": [],
   "source": [
    "from sklearn.utils import shuffle\n",
    "dataset=shuffle(dataset,random_state=0)"
   ]
  },
  {
   "cell_type": "code",
   "execution_count": 55,
   "id": "dc5c0251",
   "metadata": {},
   "outputs": [],
   "source": [
    "x_data=dataset[\"tokens\"].values\n",
    "y_data=dataset[\"Sentiment\"].values"
   ]
  },
  {
   "cell_type": "code",
   "execution_count": 56,
   "id": "7f31b938",
   "metadata": {},
   "outputs": [
    {
     "data": {
      "text/plain": [
       "(4252,)"
      ]
     },
     "execution_count": 56,
     "metadata": {},
     "output_type": "execute_result"
    }
   ],
   "source": [
    "x_data.shape"
   ]
  },
  {
   "cell_type": "code",
   "execution_count": 57,
   "id": "254cecd2",
   "metadata": {},
   "outputs": [],
   "source": [
    "from sklearn.utils import shuffle\n"
   ]
  },
  {
   "cell_type": "code",
   "execution_count": 58,
   "id": "b4623a4b",
   "metadata": {},
   "outputs": [],
   "source": [
    "word_index=tokenizer.word_index"
   ]
  },
  {
   "cell_type": "code",
   "execution_count": 59,
   "id": "65016bd3",
   "metadata": {},
   "outputs": [],
   "source": [
    "x_data_encoded=tokenizer.texts_to_sequences(x_data)"
   ]
  },
  {
   "cell_type": "code",
   "execution_count": 60,
   "id": "69f8f068",
   "metadata": {},
   "outputs": [
    {
     "data": {
      "text/plain": [
       "[11,\n",
       " 20452,\n",
       " 155,\n",
       " 448,\n",
       " 12,\n",
       " 126,\n",
       " 3641,\n",
       " 6,\n",
       " 1295,\n",
       " 100,\n",
       " 2711,\n",
       " 83,\n",
       " 3641,\n",
       " 6,\n",
       " 502,\n",
       " 8725,\n",
       " 42,\n",
       " 5134,\n",
       " 8726,\n",
       " 8727,\n",
       " 5067,\n",
       " 5135,\n",
       " 2,\n",
       " 941,\n",
       " 8728,\n",
       " 135,\n",
       " 3642,\n",
       " 1566,\n",
       " 29,\n",
       " 8729,\n",
       " 33,\n",
       " 3642,\n",
       " 730,\n",
       " 8730,\n",
       " 8731,\n",
       " 8732,\n",
       " 1085,\n",
       " 536,\n",
       " 8733,\n",
       " 1,\n",
       " 8734,\n",
       " 938,\n",
       " 8735,\n",
       " 8736]"
      ]
     },
     "execution_count": 60,
     "metadata": {},
     "output_type": "execute_result"
    }
   ],
   "source": [
    "x_data_encoded[5]"
   ]
  },
  {
   "cell_type": "code",
   "execution_count": 61,
   "id": "f9162f4b",
   "metadata": {},
   "outputs": [],
   "source": [
    "from keras.preprocessing.sequence import pad_sequences"
   ]
  },
  {
   "cell_type": "code",
   "execution_count": 62,
   "id": "f0fbd325",
   "metadata": {},
   "outputs": [],
   "source": [
    "train_padded=pad_sequences(x_data_encoded,maxlen=max_length,padding=\"post\",truncating=\"post\")"
   ]
  },
  {
   "cell_type": "code",
   "execution_count": 63,
   "id": "88f3c1a9",
   "metadata": {},
   "outputs": [
    {
     "data": {
      "text/plain": [
       "array([    8,   656,  4366,  9206,  1335,  9207,  6209,     2,    47,\n",
       "         327,     6, 23939,  3280,    23,  8956, 23940,  4537,  7242,\n",
       "       23941,  6913,     6, 23942, 23943,     2,   456,     0,     0,\n",
       "           0,     0,     0,     0,     0,     0,     0,     0,     0,\n",
       "           0,     0,     0,     0,     0,     0,     0,     0,     0,\n",
       "           0,     0,     0,     0,     0,     0,     0,     0,     0,\n",
       "           0,     0,     0,     0,     0,     0,     0])"
      ]
     },
     "execution_count": 63,
     "metadata": {},
     "output_type": "execute_result"
    }
   ],
   "source": [
    "train_padded[0]"
   ]
  },
  {
   "cell_type": "code",
   "execution_count": 64,
   "id": "668beef1",
   "metadata": {},
   "outputs": [
    {
     "data": {
      "text/plain": [
       "61"
      ]
     },
     "execution_count": 64,
     "metadata": {},
     "output_type": "execute_result"
    }
   ],
   "source": [
    "len(train_padded[5])"
   ]
  },
  {
   "cell_type": "code",
   "execution_count": 65,
   "id": "2f8e72d1",
   "metadata": {},
   "outputs": [],
   "source": [
    "from keras.models import Sequential\n",
    "from keras.layers import Embedding,LSTM,Dense,Dropout\n",
    "from keras.initializers import Constant\n",
    "#from keras.optimizers import Adam\n",
    "model=Sequential()\n",
    "model.add(Embedding(len(tokenizer.word_index),32,input_length=max_length))\n",
    "model.add(LSTM(64))\n",
    "model.add(Dense(1,activation=\"sigmoid\"))\n",
    "#adam=Adam(learning_rate=3e-4)\n",
    "model.compile(loss=\"binary_crossentropy\",optimizer=\"adam\",metrics=[\"accuracy\"])"
   ]
  },
  {
   "cell_type": "code",
   "execution_count": 66,
   "id": "ff803573",
   "metadata": {},
   "outputs": [],
   "source": [
    "from sklearn.model_selection import train_test_split"
   ]
  },
  {
   "cell_type": "code",
   "execution_count": 71,
   "id": "a2f71bef",
   "metadata": {},
   "outputs": [],
   "source": [
    "x_train,x_test,y_train,y_test=train_test_split(train_padded,y_data,test_size=0.3,random_state=2)"
   ]
  },
  {
   "cell_type": "code",
   "execution_count": 72,
   "id": "1032e0f4",
   "metadata": {},
   "outputs": [
    {
     "name": "stdout",
     "output_type": "stream",
     "text": [
      "Epoch 1/15\n",
      "93/93 [==============================] - 5s 38ms/step - loss: 0.2690 - accuracy: 0.9096\n",
      "Epoch 2/15\n",
      "93/93 [==============================] - 3s 35ms/step - loss: 0.1660 - accuracy: 0.9486\n",
      "Epoch 3/15\n",
      "93/93 [==============================] - 3s 35ms/step - loss: 0.0941 - accuracy: 0.9718\n",
      "Epoch 4/15\n",
      "93/93 [==============================] - 3s 35ms/step - loss: 0.0523 - accuracy: 0.9845\n",
      "Epoch 5/15\n",
      "93/93 [==============================] - 3s 35ms/step - loss: 0.0358 - accuracy: 0.9903\n",
      "Epoch 6/15\n",
      "93/93 [==============================] - 3s 37ms/step - loss: 0.0261 - accuracy: 0.9926\n",
      "Epoch 7/15\n",
      "93/93 [==============================] - 3s 35ms/step - loss: 0.0181 - accuracy: 0.9950\n",
      "Epoch 8/15\n",
      "93/93 [==============================] - 3s 35ms/step - loss: 0.0209 - accuracy: 0.9929\n",
      "Epoch 9/15\n",
      "93/93 [==============================] - 3s 35ms/step - loss: 0.0138 - accuracy: 0.9960\n",
      "Epoch 10/15\n",
      "93/93 [==============================] - 3s 35ms/step - loss: 0.0137 - accuracy: 0.9963\n",
      "Epoch 11/15\n",
      "93/93 [==============================] - 3s 37ms/step - loss: 0.0092 - accuracy: 0.9970\n",
      "Epoch 12/15\n",
      "93/93 [==============================] - 3s 35ms/step - loss: 0.0097 - accuracy: 0.9966\n",
      "Epoch 13/15\n",
      "93/93 [==============================] - 4s 38ms/step - loss: 0.0091 - accuracy: 0.9970\n",
      "Epoch 14/15\n",
      "93/93 [==============================] - 3s 36ms/step - loss: 0.0093 - accuracy: 0.9973\n",
      "Epoch 15/15\n",
      "93/93 [==============================] - 3s 37ms/step - loss: 0.0134 - accuracy: 0.9950\n"
     ]
    },
    {
     "data": {
      "text/plain": [
       "<keras.callbacks.History at 0x2816978dac0>"
      ]
     },
     "execution_count": 72,
     "metadata": {},
     "output_type": "execute_result"
    }
   ],
   "source": [
    "model.fit(x_train,y_train,epochs=15)"
   ]
  },
  {
   "cell_type": "code",
   "execution_count": null,
   "id": "6b4b1f38",
   "metadata": {},
   "outputs": [],
   "source": []
  },
  {
   "cell_type": "code",
   "execution_count": 73,
   "id": "24be1b26",
   "metadata": {},
   "outputs": [
    {
     "name": "stdout",
     "output_type": "stream",
     "text": [
      "40/40 [==============================] - 0s 11ms/step - loss: 0.3082 - accuracy: 0.9310\n"
     ]
    }
   ],
   "source": [
    "loss,acc = model.evaluate(x_test, y_test)"
   ]
  },
  {
   "cell_type": "code",
   "execution_count": 74,
   "id": "45f8eab6",
   "metadata": {},
   "outputs": [
    {
     "name": "stdout",
     "output_type": "stream",
     "text": [
      "0.931034505367279\n"
     ]
    }
   ],
   "source": [
    "print(acc)"
   ]
  },
  {
   "cell_type": "code",
   "execution_count": 75,
   "id": "d3cce16b",
   "metadata": {},
   "outputs": [],
   "source": [
    "model.save('model_weights.h5')"
   ]
  },
  {
   "cell_type": "code",
   "execution_count": 77,
   "id": "6afb66a6",
   "metadata": {},
   "outputs": [
    {
     "name": "stdout",
     "output_type": "stream",
     "text": [
      "Model: \"sequential_1\"\n",
      "_________________________________________________________________\n",
      " Layer (type)                Output Shape              Param #   \n",
      "=================================================================\n",
      " embedding_1 (Embedding)     (None, 61, 32)            916736    \n",
      "                                                                 \n",
      " lstm_1 (LSTM)               (None, 64)                24832     \n",
      "                                                                 \n",
      " dense_1 (Dense)             (None, 1)                 65        \n",
      "                                                                 \n",
      "=================================================================\n",
      "Total params: 941,633\n",
      "Trainable params: 941,633\n",
      "Non-trainable params: 0\n",
      "_________________________________________________________________\n"
     ]
    }
   ],
   "source": [
    "model.summary()"
   ]
  },
  {
   "cell_type": "code",
   "execution_count": null,
   "id": "3ac361bd",
   "metadata": {},
   "outputs": [],
   "source": []
  }
 ],
 "metadata": {
  "kernelspec": {
   "display_name": "Python 3",
   "language": "python",
   "name": "python3"
  },
  "language_info": {
   "codemirror_mode": {
    "name": "ipython",
    "version": 3
   },
   "file_extension": ".py",
   "mimetype": "text/x-python",
   "name": "python",
   "nbconvert_exporter": "python",
   "pygments_lexer": "ipython3",
   "version": "3.8.8"
  }
 },
 "nbformat": 4,
 "nbformat_minor": 5
}
